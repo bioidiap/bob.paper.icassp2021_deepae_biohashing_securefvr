{
 "cells": [
  {
   "cell_type": "markdown",
   "metadata": {},
   "source": [
    "## Compute Execution time (for WLD, RLT, MC methods)"
   ]
  },
  {
   "cell_type": "code",
   "execution_count": null,
   "metadata": {},
   "outputs": [],
   "source": [
    "print(\"start the code\")\n",
    "import numpy as np\n",
    "from bob.bio.vein.configurations.utfvp import database\n",
    "import bob.io.base\n",
    "\n",
    "from bob.bio.vein.preprocessor import NoCrop, TomesLeeMask, HuangNormalization, \\\n",
    "    NoFilter, Preprocessor\n",
    "\n",
    "preprocessor = Preprocessor(\n",
    "    crop=NoCrop(),\n",
    "    mask=TomesLeeMask(),\n",
    "    normalize=HuangNormalization(),\n",
    "    filter=NoFilter(),\n",
    "    )\n",
    "\n",
    "\n",
    "from bob.bio.vein.extractor import WideLineDetector\n",
    "WLD_extractor = WideLineDetector()\n",
    "\n",
    "\n",
    "from bob.bio.vein.extractor import MaximumCurvature\n",
    "MC_extractor = MaximumCurvature()\n",
    "\n",
    "\n",
    "from bob.bio.vein.extractor import RepeatedLineTracking\n",
    "RLT_extractor = RepeatedLineTracking()\n",
    "\n",
    "\n",
    "all_Files = database.objects(protocol='nom', groups='world')\n",
    "    \n",
    "######################################################################    \n",
    "import time \n",
    "\n",
    "all_extractors=[WLD_extractor, MC_extractor, RLT_extractor]\n",
    "all_extractors_name=['WLD','MC','RLT']\n",
    "\n",
    "for e,extractor in enumerate(all_extractors):\n",
    "    \n",
    "    sum_time=0\n",
    "    for obj in all_Files[:100]:\n",
    "        path=obj.make_path('/idiap/temp/hotroshi/UTFVP/data','.png')\n",
    "        image = bob.io.base.load(path)\n",
    "        \n",
    "        t1= time.time()\n",
    "        image_and_mask = preprocessor(image)\n",
    "        feature = extractor(image_and_mask)\n",
    "        \n",
    "        sum_time += time.time()-t1\n",
    "        \n",
    "    print(all_extractors_name[e],sum_time/100.0)"
   ]
  }
 ],
 "metadata": {
  "kernelspec": {
   "display_name": "Python 3",
   "language": "python",
   "name": "python3"
  },
  "language_info": {
   "codemirror_mode": {
    "name": "ipython",
    "version": 3
   },
   "file_extension": ".py",
   "mimetype": "text/x-python",
   "name": "python",
   "nbconvert_exporter": "python",
   "pygments_lexer": "ipython3",
   "version": "3.8.2"
  }
 },
 "nbformat": 4,
 "nbformat_minor": 4
}
