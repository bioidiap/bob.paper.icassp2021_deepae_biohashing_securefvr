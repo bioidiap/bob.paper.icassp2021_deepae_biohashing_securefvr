{
 "cells": [
  {
   "cell_type": "markdown",
   "metadata": {},
   "source": [
    "## Save sample images\n",
    "Save sample images which are used in the introduction of the paper:"
   ]
  },
  {
   "cell_type": "code",
   "execution_count": null,
   "metadata": {},
   "outputs": [],
   "source": [
    "import numpy as np\n",
    "from bob.bio.vein.configurations.utfvp import database\n",
    "import bob.io.base\n",
    "\n",
    "from bob.bio.vein.preprocessor import NoCrop, TomesLeeMask, HuangNormalization, \\\n",
    "    NoFilter, Preprocessor\n",
    "\n",
    "preprocessor = Preprocessor(\n",
    "    crop=NoCrop(),\n",
    "    mask=TomesLeeMask(),\n",
    "    normalize=HuangNormalization(),\n",
    "    filter=NoFilter(),\n",
    "    )\n",
    "\n",
    "from bob.bio.vein.extractor import WideLineDetector\n",
    "WLD_extractor = WideLineDetector()\n",
    "\n",
    "\n",
    "from bob.bio.vein.extractor import MaximumCurvature\n",
    "MC_extractor = MaximumCurvature()\n",
    "\n",
    "\n",
    "from bob.bio.vein.extractor import RepeatedLineTracking\n",
    "RLT_extractor = RepeatedLineTracking()\n",
    "\n",
    "\n",
    "all_Files = database.objects(protocol='nom', groups='world')\n",
    "    \n",
    "######################################################################    \n",
    "\n",
    "obj=all_Files[0]\n",
    "path=obj.make_path('<path_to_utfvp_database>','.png')\n",
    "image = bob.io.base.load(path)\n",
    "image_and_mask = preprocessor(image)\n",
    "WLD_feature = WLD_extractor(image_and_mask)\n",
    "MC_feature = MC_extractor(image_and_mask)\n",
    "RLT_feature = RLT_extractor(image_and_mask)\n",
    "PC_feature = PC_extractor(image_and_mask)\n",
    "bob.io.base.save(image,\"img_1.png\")\n",
    "bob.io.base.save(np.uint8(WLD_feature*255),\"WLD_1.png\")\n",
    "bob.io.base.save(np.uint8(MC_feature*255),\"MC_1.png\")\n",
    "bob.io.base.save(np.uint8(RLT_feature*255),\"RLT_1.png\")\n",
    "\n",
    "\n",
    "obj=all_Files[24]\n",
    "path=obj.make_path('<path_to_utfvp_database>','.png')\n",
    "image = bob.io.base.load(path)\n",
    "image_and_mask = preprocessor(image)\n",
    "WLD_feature = WLD_extractor(image_and_mask)\n",
    "MC_feature = MC_extractor(image_and_mask)\n",
    "RLT_feature = RLT_extractor(image_and_mask)\n",
    "PC_feature = PC_extractor(image_and_mask)\n",
    "bob.io.base.save(image,\"img_2.png\")\n",
    "bob.io.base.save(np.uint8(WLD_feature*255),\"WLD_2.png\")\n",
    "bob.io.base.save(np.uint8(MC_feature*255),\"MC_2.png\")\n",
    "bob.io.base.save(np.uint8(RLT_feature*255),\"RLT_2.png\")\n"
   ]
  },
  {
   "cell_type": "markdown",
   "metadata": {},
   "source": [
    "***"
   ]
  }
 ],
 "metadata": {
  "kernelspec": {
   "display_name": "Python 3",
   "language": "python",
   "name": "python3"
  },
  "language_info": {
   "codemirror_mode": {
    "name": "ipython",
    "version": 3
   },
   "file_extension": ".py",
   "mimetype": "text/x-python",
   "name": "python",
   "nbconvert_exporter": "python",
   "pygments_lexer": "ipython3",
   "version": "3.8.2"
  }
 },
 "nbformat": 4,
 "nbformat_minor": 4
}
